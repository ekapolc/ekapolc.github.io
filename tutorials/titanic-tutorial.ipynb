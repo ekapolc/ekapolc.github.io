{
 "cells": [
  {
   "cell_type": "code",
   "execution_count": null,
   "metadata": {
    "collapsed": true
   },
   "outputs": [],
   "source": [
    "import numpy as np\n",
    "import pandas as pd\n",
    "from matplotlib import pyplot as plt\n",
    "from sklearn import linear_model\n",
    "\n",
    "np.random.seed(1234)"
   ]
  },
  {
   "cell_type": "code",
   "execution_count": null,
   "metadata": {},
   "outputs": [],
   "source": [
    "# Get the training data and use panda to read it\n",
    "train_url = \"http://s3.amazonaws.com/assets.datacamp.com/course/Kaggle/train.csv\"\n",
    "train = pd.read_csv(train_url)\n",
    "test_url = \"http://s3.amazonaws.com/assets.datacamp.com/course/Kaggle/test.csv\"\n",
    "test = pd.read_csv(test_url)"
   ]
  },
  {
   "cell_type": "code",
   "execution_count": null,
   "metadata": {
    "scrolled": true
   },
   "outputs": [],
   "source": [
    "# Let's look at the some example data\n",
    "train.head()\n",
    "# Notice how some data is missing (NaN)"
   ]
  },
  {
   "cell_type": "code",
   "execution_count": null,
   "metadata": {},
   "outputs": [],
   "source": [
    "# We can also use describe to get an overall statistics\n",
    "train.describe()"
   ]
  },
  {
   "cell_type": "markdown",
   "metadata": {},
   "source": [
    "Looking at the data, you will notice a lot of missing values. For example, some age is NaN. This is normal for real world data to have some missing values. There are several ways to handle missing values. The simplest is to throw away any rows that have missing values. However, this usually reduce the amount of training data you have. Another method is to guess what the missing value should be. The simplest guess is to use the Median or Mode of the data. For this exercise we will proceed with this.\n",
    "\n",
    "For example we can replace the age with the median by this command\n",
    "```\n",
    "train[\"Age\"] = train[\"Age\"].fillna(train[\"Age\"].median())\n",
    "```"
   ]
  },
  {
   "cell_type": "code",
   "execution_count": null,
   "metadata": {
    "collapsed": true
   },
   "outputs": [],
   "source": [
    "# Complete the following function\n",
    "# feature_preprocess\n",
    "# Input: panda data frame\n",
    "# Output: processed panda data frame\n",
    "# This function does the following\n",
    "# 1. Changes \"S\", \"C\", and \"Q\" in the \"Embarked\" category to 0, 1, and 2\n",
    "# 2. Changes \"male\" and \"female\" in the \"Sex\" category to 0, and 1\n",
    "# 3. Fills Age, PClass, Sex, and Embarked with the median/modes values.\n",
    "# 4. Normalize the data to have similar ranges. (This is required for linear regression)\n",
    "\n",
    "def feature_preprocess(data_in):\n",
    "    data = data_in.copy()\n",
    "    \n",
    "    data.loc[data[\"Embarked\"] == \"S\", \"Embarked\"] = 0\n",
    "    ## TODO complete the rest of the conversion\n",
    "    \n",
    "    data.loc[data[\"Embarked\"] == \"C\", \"Embarked\"] = 1\n",
    "    data.loc[data[\"Embarked\"] == \"Q\", \"Embarked\"] = 2\n",
    "    data.loc[data[\"Sex\"] == \"male\", \"Sex\"] = 0\n",
    "    data.loc[data[\"Sex\"] == \"female\", \"Sex\"] = 1\n",
    "    \n",
    "\n",
    "    data[\"Age\"] = data[\"Age\"].fillna(train[\"Age\"].median())\n",
    "    data[\"Embarked\"] = data[\"Embarked\"].fillna(data[\"Embarked\"].value_counts().idxmax())\n",
    "    ## TODO fill Pclass and Embarked. Which on to use for each? Median or mode?\n",
    "\n",
    "    data[\"Pclass\"] = data[\"Pclass\"].fillna(data[\"Pclass\"].value_counts().idxmax())\n",
    "    data[\"Sex\"] = data[\"Sex\"].fillna(data[\"Sex\"].value_counts().idxmax()) \n",
    "    \n",
    "    \n",
    "    # Normalize so that the data values are between 0 and 1\n",
    "    data[\"Age\"] /= data[\"Age\"].max()\n",
    "    data[\"Embarked\"] /= data[\"Embarked\"].max()\n",
    "    data[\"Pclass\"] /= data[\"Pclass\"].max()\n",
    "    data[\"Sex\"] /= data[\"Sex\"].max()\n",
    "    \n",
    "    return data"
   ]
  },
  {
   "cell_type": "code",
   "execution_count": null,
   "metadata": {},
   "outputs": [],
   "source": [
    "dataTrain = feature_preprocess(train)\n",
    "dataTest = feature_preprocess(test)\n",
    "# Let's see if it comes out right\n",
    "dataTrain.head(65)"
   ]
  },
  {
   "cell_type": "code",
   "execution_count": null,
   "metadata": {
    "collapsed": true
   },
   "outputs": [],
   "source": [
    "# This function extracts 4 values from our data. We will only use these 4 to do our task\n",
    "# It converts a panda dataframe into a numpy array\n",
    "def extract_feature(data):\n",
    "    np_data = np.array(data[[\"Pclass\",\"Sex\",\"Age\",\"Embarked\"]].values, dtype=np.float32)\n",
    "    return np_data"
   ]
  },
  {
   "cell_type": "code",
   "execution_count": null,
   "metadata": {
    "scrolled": true
   },
   "outputs": [],
   "source": [
    "Xtrain = extract_feature(dataTrain)\n",
    "Ytrain = np.array(dataTrain[[\"Survived\"]].values, dtype=np.float32).flatten()\n",
    "\n",
    "Xtest = extract_feature(dataTest)\n",
    "\n",
    "# See if they look right\n",
    "print Xtrain\n",
    "print Ytrain"
   ]
  },
  {
   "cell_type": "code",
   "execution_count": null,
   "metadata": {},
   "outputs": [],
   "source": [
    "logistic = linear_model.LogisticRegression()\n",
    "\n",
    "# Train the logistic regression\n",
    "logistic.fit(Xtrain, Ytrain)\n",
    "\n",
    "# Use it to predict the test set\n",
    "prediction = logistic.predict(Xtest)\n",
    "print prediction"
   ]
  },
  {
   "cell_type": "code",
   "execution_count": null,
   "metadata": {
    "collapsed": true
   },
   "outputs": [],
   "source": [
    "# We generate an output file output.csv\n",
    "output = pd.DataFrame(test[\"PassengerId\"])\n",
    "output[\"Survived\"] = (prediction==1).astype(int)\n",
    "output.to_csv(\"output.csv\", index=False)"
   ]
  },
  {
   "cell_type": "markdown",
   "metadata": {},
   "source": [
    "To evaluate your results, we will use Kaggle. Kaggle is a website that hosts many machine learning competitions. Many companies put up their data as a problem for anyone to participate.\n",
    "\n",
    "To submit your prediction, you must first sign-up for an account on [Kaggle.com](Kaggle). Click participate to the competition at [https://www.kaggle.com/c/titanic/](Titanic) then submit your csv file for the score.\n",
    "\n",
    "You should get a score of 0.75598."
   ]
  },
  {
   "cell_type": "markdown",
   "metadata": {},
   "source": [
    "# Titanic Playground #\n",
    "Try improving your results.\n",
    "Things to try\n",
    "1. Changing features, adding or removing features\n",
    "2. Add non-linear features"
   ]
  },
  {
   "cell_type": "code",
   "execution_count": null,
   "metadata": {
    "collapsed": true
   },
   "outputs": [],
   "source": [
    "# Enter your code here"
   ]
  }
 ],
 "metadata": {
  "kernelspec": {
   "display_name": "Python 2",
   "language": "python",
   "name": "python2"
  },
  "language_info": {
   "codemirror_mode": {
    "name": "ipython",
    "version": 2
   },
   "file_extension": ".py",
   "mimetype": "text/x-python",
   "name": "python",
   "nbconvert_exporter": "python",
   "pygments_lexer": "ipython2",
   "version": "2.7.13"
  }
 },
 "nbformat": 4,
 "nbformat_minor": 2
}
